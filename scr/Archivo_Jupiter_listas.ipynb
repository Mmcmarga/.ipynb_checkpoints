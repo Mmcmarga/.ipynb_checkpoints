{
 "cells": [
  {
   "cell_type": "markdown",
   "id": "d472e82f",
   "metadata": {},
   "source": [
    "## He creado la lista y va rotando los nombres"
   ]
  },
  {
   "cell_type": "code",
   "execution_count": 40,
   "id": "466427e4",
   "metadata": {},
   "outputs": [
    {
     "name": "stdout",
     "output_type": "stream",
     "text": [
      "[1, 2, 3, 4, 5, 6, 7, 8, 9]\n",
      "[2, 3, 4, 5, 6, 7, 8, 9, 1]\n",
      "[3, 4, 5, 6, 7, 8, 9, 1, 2]\n"
     ]
    }
   ],
   "source": [
    "lista = [1,2,3,4,5,6,7,8,9]\n",
    "print(lista)\n",
    "#buscar_index = 5  index muestra el valor en este caso el 4\n",
    "#coincidencias = lista.index(buscar_index)\n",
    "#print(coincidencias)\n",
    "\n",
    "def cambiar_lista (l):\n",
    "    n= lista.pop(0)  \n",
    "    lista.append(n)   \n",
    "    \n",
    "cambiar_lista(lista)\n",
    "print(lista)\n",
    "pregunta = input(\"Desea seguir rotando las ciudades : s/n \")\n",
    "if pregunta == \"s\":\n",
    "    cambiar_lista(lista)\n",
    "else:\n",
    "    print(f\"No se ha modificado la lista {lista}\")\n",
    "\n",
    "print(lista)"
   ]
  },
  {
   "cell_type": "code",
   "execution_count": null,
   "id": "412fb1bb",
   "metadata": {},
   "outputs": [
    {
     "data": {
      "text/plain": [
       "12"
      ]
     },
     "execution_count": 5,
     "metadata": {},
     "output_type": "execute_result"
    }
   ],
   "source": [
    "x= 6 + 6\n",
    "x\n"
   ]
  },
  {
   "cell_type": "markdown",
   "id": "0cd6a708",
   "metadata": {},
   "source": [
    "# Ejercicio 1\n",
    "Escribir un programa que pregunte el nombre del usuario en la consola y un número entero e imprima por pantalla en líneas distintas el nombre del usuario tantas veces como el número introducido."
   ]
  },
  {
   "cell_type": "code",
   "execution_count": null,
   "id": "aa36b31a",
   "metadata": {},
   "outputs": [
    {
     "name": "stdout",
     "output_type": "stream",
     "text": [
      "carlos\n",
      "carlos\n",
      "carlos\n",
      "carlos\n",
      "carlos\n",
      "carlos\n"
     ]
    }
   ],
   "source": [
    "nombre = input(\"digame un nombre\")\n",
    "numero = int(input(\"digame un numero\"))\n",
    "for i in range(numero):\n",
    "    print(nombre)\n"
   ]
  },
  {
   "cell_type": "markdown",
   "id": "bf2d2b4a",
   "metadata": {},
   "source": [
    "# Ejercicio 2\n",
    "Escribir un programa que pregunte el nombre completo del usuario en la consola y después muestre por pantalla el nombre completo del usuario tres veces, una con todas las letras minúsculas, otra con todas las letras mayúsculas y otra solo con la primera letra del nombre y de los apellidos en mayúscula. El usuario puede introducir su nombre combinando mayúsculas y minúsculas como quiera."
   ]
  },
  {
   "cell_type": "code",
   "execution_count": null,
   "id": "800c3ac7",
   "metadata": {},
   "outputs": [
    {
     "name": "stdout",
     "output_type": "stream",
     "text": [
      "margarita madueño cano\n",
      "MARGARITA MADUEÑO CANO\n",
      " m   M\n",
      "Margarita Madueño Cano\n",
      "margarita madueño cano\n"
     ]
    }
   ],
   "source": [
    "nombre = input(\"digame un nombre\")\n",
    "print(nombre.lower())\n",
    "print(nombre.upper())\n",
    "print(f\" {nombre[0]}   {nombre[0].upper()}\")\n",
    "print(nombre.title())\n",
    "print(nombre)\n"
   ]
  },
  {
   "cell_type": "markdown",
   "id": "3b80c4bc",
   "metadata": {},
   "source": [
    "## Ejercicio 3\n",
    "Escribir un programa que pregunte el nombre del usuario en la consola y después de que el usuario lo introduzca muestre por pantalla <NOMBRE> tiene <n> letras, donde <NOMBRE> es el nombre de usuario en mayúsculas y <n> es el número de letras que tienen el nombre."
   ]
  },
  {
   "cell_type": "code",
   "execution_count": 37,
   "id": "0adb6e46",
   "metadata": {},
   "outputs": [
    {
     "name": "stdout",
     "output_type": "stream",
     "text": [
      "el nombre es :  MI PERRITA SE LLAMA ELSA  U y tiene :  27 letras \n",
      "MI PERRITA SE LLAMA ELSA  U tiene 27 letras\n"
     ]
    }
   ],
   "source": [
    "nombre = input(\"digame un nombre\")\n",
    "\n",
    "print(f\"el nombre es :  {nombre.upper()} y tiene :  { len(nombre)} letras \")\n",
    "print(nombre.upper() + \" tiene \" + str(len(nombre)) + \" letras\")"
   ]
  },
  {
   "cell_type": "markdown",
   "id": "e6078af1",
   "metadata": {},
   "source": [
    "## Ejercicio 4\n",
    "Los teléfonos de una empresa tienen el siguiente formato prefijo-número-extension donde el prefijo es el código del país +34, y la extensión tiene dos dígitos (por ejemplo +34-913724710-56). Escribir un programa que pregunte por un número de teléfono con este formato y muestre por pantalla el número de teléfono sin el prefijo y la extensión."
   ]
  },
  {
   "cell_type": "code",
   "execution_count": null,
   "id": "79a6c661",
   "metadata": {},
   "outputs": [
    {
     "name": "stdout",
     "output_type": "stream",
     "text": [
      "este es el teléfono: 957322222\n"
     ]
    }
   ],
   "source": [
    "numero_telefono = input(\"Introduce un número de teléfono con el formato +xx-xxxxxxxxx-xx:  \")\n",
    "print(f\"este es el teléfono: {numero_telefono[4:-3]}\")"
   ]
  },
  {
   "cell_type": "markdown",
   "id": "b432c443",
   "metadata": {},
   "source": [
    "## Ejercicio 5 invertir palabra con for\n",
    "Escribir un programa que pida al usuario que introduzca una frase en la consola y muestre por pantalla la frase invertida."
   ]
  },
  {
   "cell_type": "code",
   "execution_count": 34,
   "id": "fb3cda65",
   "metadata": {},
   "outputs": [
    {
     "name": "stdout",
     "output_type": "stream",
     "text": [
      "anuledoralc\n",
      "aepoisac\n"
     ]
    }
   ],
   "source": [
    "frase= input(\"Introduzca una frase para ser invertida: \")\n",
    "invertir = \"\"\n",
    "# una forma :\n",
    "for char in frase:\n",
    "    invertir = char + invertir\n",
    "print(invertir)\n",
    "\n",
    "# otra forma :\n",
    "frase = input(\"Introduce una frase: \")\n",
    "print(frase[::-1])"
   ]
  },
  {
   "cell_type": "markdown",
   "id": "99671855",
   "metadata": {},
   "source": [
    "# Ejercicio 6 replace()\n",
    "Escribir un programa que pida al usuario que introduzca una frase en la consola y una vocal, y después muestre por pantalla la misma frase pero con la vocal introducida en mayúscula."
   ]
  },
  {
   "cell_type": "code",
   "execution_count": 73,
   "id": "2bb90fb9",
   "metadata": {},
   "outputs": [
    {
     "name": "stdout",
     "output_type": "stream",
     "text": [
      " esta es la frase:  hola cara cola a esta es la vocal es = A\n",
      "hola cara cola E\n"
     ]
    }
   ],
   "source": [
    "frase = input(\"Introduce una frase y una vocal : -> \")\n",
    "print(f\" esta es la frase:  {frase} esta es la vocal es = {frase[-1].upper()}\")\n",
    "# otra forma \n",
    "frase = input(\"Introduce una frase: \")\n",
    "vocal = input(\"Introduce una vocal en minúscula:  \")\n",
    "print(frase.replace(vocal,vocal.upper()))"
   ]
  },
  {
   "cell_type": "markdown",
   "id": "c4067906",
   "metadata": {},
   "source": [
    "# Ejercicio 7  3 formas, find()\n",
    "Escribir un programa que pregunte el correo electrónico del usuario en la consola y muestre por pantalla otro correo electrónico con el mismo nombre (la parte delante de la arroba @) pero con dominio ceu.es."
   ]
  },
  {
   "cell_type": "code",
   "execution_count": 72,
   "id": "6cad2989",
   "metadata": {},
   "outputs": [
    {
     "name": "stdout",
     "output_type": "stream",
     "text": [
      "margaceu.es\n"
     ]
    }
   ],
   "source": [
    "correo = input(\"Introduce un correo electrónico : -> \")\n",
    "arroba= \"@\"\n",
    "posicion = 0\n",
    "if arroba in correo:\n",
    "    posicion = correo.find(arroba) \n",
    "print(correo[:posicion] + \"ceu.es\" )"
   ]
  },
  {
   "cell_type": "code",
   "execution_count": 68,
   "id": "fa75d078",
   "metadata": {},
   "outputs": [
    {
     "name": "stdout",
     "output_type": "stream",
     "text": [
      "fuera de if @\n",
      "fuera de if @\n",
      "fuera de if @\n",
      "fuera de if @\n",
      "fuera de if @\n",
      "este es el contador: 6 que son los elementos\n",
      "esta es la i :  5 es la posición ya que comienza desde 0\n",
      "fuera de if @\n",
      "fuera de if @\n",
      "fuera de if @\n",
      "fuera de if @\n",
      "fuera de if @\n",
      "el correo tiene -- 9 --letras contando desde el 0\n",
      "marga@.com\n",
      "marga@ceu.es\n"
     ]
    }
   ],
   "source": [
    "correo = input(\"Introduce un correo electrónico : -> \")\n",
    "arroba= \"@\"\n",
    "contador = 0\n",
    "resto_correo = \"\"\n",
    "for i in range(len(correo)):\n",
    "    contador = i + 1\n",
    "    if correo[i] == arroba: \n",
    "     print(f\"este es el contador: {contador} que son los elementos\")\n",
    "     print(f\"esta es la i :  {i} es la posición ya que comienza desde 0\")\n",
    "     resto_correo=correo[:contador]\n",
    "     resto_correo += \"ceu.es\"\n",
    "    \n",
    "    print(f\"fuera de if {arroba}\")\n",
    "print(f\"el correo tiene -- {i} --letras contando desde el 0\")    \n",
    "print(correo)\n",
    "print(resto_correo)\n"
   ]
  },
  {
   "cell_type": "code",
   "execution_count": 69,
   "id": "321a16c3",
   "metadata": {},
   "outputs": [
    {
     "name": "stdout",
     "output_type": "stream",
     "text": [
      "marga@ceu.es\n"
     ]
    }
   ],
   "source": [
    "email = input(\"Introduce tu correo electrónico: \")\n",
    "print(email[:email.find('@')] + '@ceu.es')"
   ]
  },
  {
   "cell_type": "markdown",
   "id": "0bd2f21e",
   "metadata": {},
   "source": [
    "# Salto de línea: \\n   \n",
    "- # print(\"Una línea\\nOtra línea\")\n",
    "- Una línea\n",
    "- Otra línea\n",
    "# Tabulador: \\t\n",
    ">>> print(\"1\\t2\\t3\")\n",
    "1       2       3"
   ]
  },
  {
   "cell_type": "code",
   "execution_count": 48,
   "id": "3bc710c0",
   "metadata": {},
   "outputs": [
    {
     "name": "stdout",
     "output_type": "stream",
     "text": [
      "Una línea\n",
      "Otra línea\n",
      "1\t2\t3\n"
     ]
    }
   ],
   "source": [
    "print(\"Una línea\\nOtra línea\")\n",
    "print(\"1\\t2\\t3\")\n"
   ]
  },
  {
   "cell_type": "markdown",
   "id": "378d96e2",
   "metadata": {},
   "source": [
    "# Ejercicio 8 find()\n",
    "Escribir un programa que pregunte por consola el precio de un producto en euros con dos decimales y muestre por pantalla el número de euros y el número de céntimos del precio introducido."
   ]
  },
  {
   "cell_type": "code",
   "execution_count": 78,
   "id": "f49058f0",
   "metadata": {},
   "outputs": [
    {
     "name": "stdout",
     "output_type": "stream",
     "text": [
      " 78 euros y 3 centimos \n"
     ]
    }
   ],
   "source": [
    "precio = input(\"Introduzca el precio en € y con 2 decimales : -> \")\n",
    "coma = \",\"\n",
    "punto =\".\"\n",
    "\n",
    "if coma in precio:\n",
    "    print(f\" {(precio[:precio.find(\",\")])} euros y {precio[(precio.find(coma))+1:]} centimos \")\n",
    "else:\n",
    "    print(f\" {(precio[:precio.find(\".\")])} euros y {precio[(precio.find(punto))+1:]} centimos \")"
   ]
  },
  {
   "cell_type": "code",
   "execution_count": 81,
   "id": "b1668c5d",
   "metadata": {},
   "outputs": [
    {
     "name": "stdout",
     "output_type": "stream",
     "text": [
      "7 euros y 8 céntimos.\n"
     ]
    }
   ],
   "source": [
    "precio = input(\"Introduce el precio del producto con dos decimales:  \")\n",
    "print(precio[:precio.find('.')], 'euros y', precio[precio.find('.')+1:], 'céntimos.')"
   ]
  },
  {
   "cell_type": "markdown",
   "id": "722c752a",
   "metadata": {},
   "source": [
    "# Ejercicio 9\n",
    "Escribir un programa que pregunte al usuario la fecha de su nacimiento en formato dd/mm/aaaa y muestra por pantalla, el día, el mes y el año. Adaptar el programa anterior para que también funcione cuando el día o el mes se introduzcan con un solo carácter."
   ]
  },
  {
   "cell_type": "code",
   "execution_count": null,
   "id": "f693cda9",
   "metadata": {},
   "outputs": [],
   "source": [
    "fechas = input(\"Introduce la fecha de su nacimiento en formato dd/mm/aaaa:  \")\n",
    "dia = fechas[:2]\n",
    "mes = fechas[3:5]\n",
    "año = fechas[6:]\n",
    "\n",
    "\n",
    "print(f\"Su fecha de nacimiento es de día {dia}, mes {mes} del año {año}\")"
   ]
  },
  {
   "cell_type": "code",
   "execution_count": 90,
   "id": "80785167",
   "metadata": {},
   "outputs": [
    {
     "name": "stdout",
     "output_type": "stream",
     "text": [
      " dia 0 mes 0 año 0\n",
      " dia 11/ mes 11/\n"
     ]
    }
   ],
   "source": [
    "fechas = input(\"Introduce la fecha de su nacimiento en formato dd/mm/aaaa:  \")\n",
    "f_dia= 0\n",
    "f_mes= 0\n",
    "f_año= 0\n",
    "\n",
    "if fechas[:(fechas.find(\"/\"))+1]:\n",
    "    f_dia = fechas.find(fechas[:(fechas.find(\"/\"))+1])\n",
    "    \n",
    "if fechas[f_dia:(fechas.find(\"/\"))+1]:\n",
    "    f_mes = fechas.find(fechas[f_dia:(fechas.find(\"/\"))+1])\n",
    "    \n",
    "if fechas[f_mes:(fechas.find(\"/\"))+1]:\n",
    "    f_año =fechas.find(fechas[f_mes:(fechas.find(\"/\"))+1])\n",
    "    \n",
    "print(f\" dia {f_dia} mes {f_mes} año {f_año}\")\n",
    "\n",
    "print(f\" dia {fechas[:(fechas.find(\"/\"))+1]} mes {fechas[:(fechas.find(\"/\"))+1]}\")\n"
   ]
  }
 ],
 "metadata": {
  "kernelspec": {
   "display_name": "Python 3 (ipykernel)",
   "language": "python",
   "name": "python3"
  },
  "language_info": {
   "codemirror_mode": {
    "name": "ipython",
    "version": 3
   },
   "file_extension": ".py",
   "mimetype": "text/x-python",
   "name": "python",
   "nbconvert_exporter": "python",
   "pygments_lexer": "ipython3",
   "version": "3.12.0"
  }
 },
 "nbformat": 4,
 "nbformat_minor": 5
}
