{
 "cells": [
  {
   "cell_type": "code",
   "execution_count": null,
   "id": "466427e4",
   "metadata": {},
   "outputs": [],
   "source": [
    "lista = [1,2,3,4,5,6,7,8,9]\n",
    "print(lista)\n",
    "#buscar_index = 5  index muestra el valor en este caso el 4\n",
    "#coincidencias = lista.index(buscar_index)\n",
    "#print(coincidencias)\n",
    "\n",
    "def cambiar_lista (l):\n",
    "    n= lista.pop(0)  \n",
    "    lista.append(n)   \n",
    "    \n",
    "cambiar_lista(lista)\n",
    "print(lista)\n",
    "pregunta = input(\"Desea seguir rotando las ciudades : s/n \")\n",
    "if pregunta == \"s\":\n",
    "    cambiar_lista(lista)\n",
    "else:\n",
    "    print(f\"No se ha modificado la lista {lista}\")\n",
    "\n",
    "print(lista)"
   ]
  },
  {
   "cell_type": "code",
   "execution_count": null,
   "id": "c0b2a7f9",
   "metadata": {},
   "outputs": [],
   "source": []
  }
 ],
 "metadata": {
  "kernelspec": {
   "display_name": "Python 3 (ipykernel)",
   "language": "python",
   "name": "python3"
  },
  "language_info": {
   "codemirror_mode": {
    "name": "ipython",
    "version": 3
   },
   "file_extension": ".py",
   "mimetype": "text/x-python",
   "name": "python",
   "nbconvert_exporter": "python",
   "pygments_lexer": "ipython3",
   "version": "3.12.0"
  }
 },
 "nbformat": 4,
 "nbformat_minor": 5
}
